{
 "cells": [
  {
   "metadata": {},
   "cell_type": "code",
   "outputs": [],
   "execution_count": null,
   "source": "",
   "id": "578f23c41c95ed26"
  }
 ],
 "metadata": {},
 "nbformat": 4,
 "nbformat_minor": 5
}
